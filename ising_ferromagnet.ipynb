{
 "cells": [
  {
   "cell_type": "code",
   "execution_count": null,
   "metadata": {
    "collapsed": false
   },
   "outputs": [],
   "source": [
    "from __future__ import division\n",
    "import numpy as np\n",
    "import matplotlib.pyplot as plt\n",
    "import matplotlib.cm as cm\n",
    "from matplotlib.animation import ArtistAnimation\n",
    "\n",
    "__author__ = 'A. Orden'\n",
    "__name__ = '__main__'\n",
    "\n",
    "\"\"\"\n",
    "This performs a Metropolis-style simulation of the Ising model on a square\n",
    "lattice.\n",
    "\n",
    "My main reference for the notation is Chapter 10 of Mark Newman's book entitled\n",
    "\"Computational Physics\".\n",
    "\n",
    "Link: http://www-personal.umich.edu/~mejn/cp/exercises/exercises10.zip\n",
    "\"\"\"\n",
    "\n",
    "\"\"\"Definition of variables\"\"\"\n",
    "J = 1\n",
    "L = 50\n",
    "T = 1\n",
    "kB = 1\n",
    "beta = 1./(kB*T)\n",
    "\n",
    "\"\"\"Initially set the spin variables randomly to +1 or -1\"\"\"\n",
    "S_init = 2*np.random.random_integers(0, 1, [L,L]) - 1\n",
    "\n",
    "\"\"\"Calculates the total energy of the system\"\"\"    \n",
    "def E(S, J):\n",
    "    E = 0\n",
    "    for i in xrange(L-1):\n",
    "        j = i+1\n",
    "        E += np.sum(S[:,i]*S[:,j] + S[i,:]*S[j,:])\n",
    "    E = -J*E\n",
    "    return E\n",
    "\n",
    "\"\"\"Create a container for the frames to be animated\"\"\"\n",
    "fig = plt.figure()\n",
    "ims = []\n",
    "\n",
    "for _ in xrange(2000):\n",
    "    Ei = E(S_init, J)\n",
    "\n",
    "    \"\"\"Choose a spin at random, flip it, and calculate the new energy after\"\"\"\n",
    "    i = np.random.randint(L)\n",
    "    j = np.random.randint(L)\n",
    "    S_flip = np.copy(S_init)\n",
    "    S_flip[i,j] = -(S_flip[i,j])\n",
    "    Ej = E(S_flip, J)\n",
    "\n",
    "    \"\"\"Decide whether to accept or reject the flip using the Metropolis acceptance formula\"\"\"\n",
    "    if Ej <= Ei:\n",
    "        S_init  = S_flip\n",
    "    else:\n",
    "        z = np.random.ranf()\n",
    "        probability = np.exp(-beta*(Ej-Ei))\n",
    "        if z < probability:\n",
    "            S_init = S_flip\n",
    "\n",
    "    \"\"\"Add frames to the container\"\"\"\n",
    "    im = plt.imshow(S_init, cmap=cm.gray, animated=True, interpolation='none')\n",
    "    ims.append([im])"
   ]
  },
  {
   "cell_type": "code",
   "execution_count": null,
   "metadata": {
    "collapsed": true
   },
   "outputs": [],
   "source": [
    "\"\"\"Animate the frames\"\"\"\n",
    "anim = ArtistAnimation(fig, ims,\n",
    "                       repeat=False, interval=5, blit=True)\n",
    "plt.show()"
   ]
  },
  {
   "cell_type": "markdown",
   "metadata": {},
   "source": [
    "Restart the kernel to view a different version of the simulation."
   ]
  }
 ],
 "metadata": {
  "kernelspec": {
   "display_name": "Python 2",
   "language": "python",
   "name": "python2"
  },
  "language_info": {
   "codemirror_mode": {
    "name": "ipython",
    "version": 2
   },
   "file_extension": ".py",
   "mimetype": "text/x-python",
   "name": "python",
   "nbconvert_exporter": "python",
   "pygments_lexer": "ipython2",
   "version": "2.7.11"
  }
 },
 "nbformat": 4,
 "nbformat_minor": 0
}
